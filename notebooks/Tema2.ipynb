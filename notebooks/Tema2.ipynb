{
 "cells": [
  {
   "cell_type": "markdown",
   "metadata": {
    "id": "IKN2HCW6WjxY"
   },
   "source": [
    "# Tema 2: Introducción a Python"
   ]
  },
  {
   "cell_type": "markdown",
   "metadata": {
    "id": "G7aKahOMWjxe"
   },
   "source": [
    "## Introducción a Python\n",
    "\n",
    "Python es un lenguaje de programación:\n",
    "- Creado a principios de los 90.\n",
    "- Nombre procede del programa de la BBC [\"Monty Python's Flying Circus\"](https://en.wikipedia.org/wiki/Monty_Python%27s_Flying_Circus).\n",
    "- Multiplataforma.\n",
    "- Amplia biblioteca con cientos de módulos.\n",
    "- Distintos paradigmas de programación.\n",
    "- Trabajaremos con Python 3.6."
   ]
  },
  {
   "cell_type": "markdown",
   "metadata": {
    "id": "zrHpB6uIWjxi"
   },
   "source": [
    "## Trabajando con Python\n",
    "\n",
    "Existen distintos modos de trabajar con Python."
   ]
  },
  {
   "cell_type": "markdown",
   "metadata": {
    "id": "gBjneCscWjxk"
   },
   "source": [
    "### Modo interactivo\n",
    "\n",
    "- Línea de comandos interactiva (intérprete).\n",
    "- Código no se guarda.\n",
    "- Sirve para hacer pruebas rápidas. \n",
    "- Uso (entorno [REPL](https://en.wikipedia.org/wiki/Read%E2%80%93eval%E2%80%93print_loop)):\n",
    "    - Arrancar el interprete ``> python``.\n",
    "    - Escribir expresión.\n",
    "    - Evaluar expresión.\n",
    "    - Intérprete escribe resultado. "
   ]
  },
  {
   "cell_type": "markdown",
   "metadata": {
    "id": "ZlgI6mIcWjxo"
   },
   "source": [
    "### Guiones\n",
    "\n",
    "Guiones son ficheros de texto que permiten guardar nuestros programas Python. \n",
    "- Crear fichero de texto (guión) con extensión ``.py``.\n",
    "- Uso:\n",
    "    - Crear guión.\n",
    "    - Ejecutar guión."
   ]
  },
  {
   "cell_type": "markdown",
   "metadata": {
    "id": "1QYV0GKtWjxs"
   },
   "source": [
    "### Notebooks de Jupyter\n",
    "\n",
    "- Combina guiones con modo interactivo.\n",
    "- Se intercalan explicaciones con código.\n",
    "- Se pueden exportar los programas para usarlos como guiones. "
   ]
  },
  {
   "cell_type": "code",
   "execution_count": null,
   "metadata": {
    "id": "G9xv0-6eWjxv"
   },
   "outputs": [],
   "source": [
    "3+2"
   ]
  },
  {
   "cell_type": "markdown",
   "metadata": {
    "id": "D85CL4hxWjx4"
   },
   "source": [
    "## Diferencias de Python con otros lenguajes\n",
    "\n",
    "- No se usan delimitadores (llaves ``{}``).\n",
    "- Se usa indentación $\\rightarrow$ Espacios en blanco son significativos."
   ]
  },
  {
   "cell_type": "code",
   "execution_count": null,
   "metadata": {
    "id": "MIh5mY8bWjx7"
   },
   "outputs": [],
   "source": [
    "def signo(x):\n",
    "    if x < 0:\n",
    "        return \"negativo\"\n",
    "    elif x > 0:\n",
    "        return \"positivo\"\n",
    "    else:\n",
    "        return \"0\""
   ]
  },
  {
   "cell_type": "markdown",
   "metadata": {
    "id": "TSQ0afCOWjyD"
   },
   "source": [
    "- Tipado dinámico:\n",
    "    - No se dan tipos de variables, el sistema los infiere.\n",
    "    - No es necesario indicar el tipo devuelto por las funciones, o el de sus parámetros."
   ]
  },
  {
   "cell_type": "code",
   "execution_count": null,
   "metadata": {
    "id": "nbm8paY0WjyF"
   },
   "outputs": [],
   "source": [
    "a = 3\n",
    "a = 'hola'"
   ]
  },
  {
   "cell_type": "markdown",
   "metadata": {
    "id": "p9SSFTpxWjyN"
   },
   "source": [
    "- Tipado dinámico vs tipado estático:\n",
    "    - No se declaran tipos, Python se encarga de gestionarlos.\n",
    "    - Gestión dinámica, puede cambiar el tipo de las variables.\n",
    "- Interpretado vs compilado:\n",
    "    - Compilación código fuente a código máquina:\n",
    "        - Ejecución más rápida.\n",
    "        - Proceso de compilación puede llevar más tiempo.\n",
    "    - Interpretado:\n",
    "        - Código fuente se transforma a bytecode (lenguaje intermedio).\n",
    "        - Facilita multiplataforma.\n",
    "        - Código es más lento."
   ]
  },
  {
   "cell_type": "markdown",
   "metadata": {
    "id": "VBHFOeRGWjyO"
   },
   "source": [
    "## Entornos de programación\n",
    "\n",
    "Existen distintos IDEs:\n",
    "\n",
    "- [Idle](https://docs.python.org/2/library/idle.html).\n",
    "- [Spyder](https://pythonhosted.org/spyder/).\n",
    "- [IPython](https://ipython.org/) + [Jupyter](http://jupyter.org/) + [Colab](https://colab.research.google.com/).\n",
    "- [Pydev](http://www.pydev.org/).\n",
    "- [PyCharm](https://www.jetbrains.com/pycharm/).\n",
    "- [NBDev](https://github.com/fastai/nbdev).\n"
   ]
  },
  {
   "cell_type": "markdown",
   "metadata": {
    "id": "8UkauvliWjyQ"
   },
   "source": [
    "## Programando en Python"
   ]
  },
  {
   "cell_type": "markdown",
   "metadata": {
    "id": "mJ5T8XHiWjyS"
   },
   "source": [
    "### Definición de funciones"
   ]
  },
  {
   "cell_type": "code",
   "execution_count": null,
   "metadata": {
    "id": "dm1qslfrWjyT"
   },
   "outputs": [],
   "source": [
    "def fib(n):\n",
    "   \"\"\"Imprime la sucesión de Fibonacci hasta n y devuelve el último calculado \"\"\"\n",
    "   a, b = 0, 1\n",
    "   while a < n:\n",
    "       print(a, end=' ')\n",
    "       a, b = b, a+b\n",
    "   print()\n",
    "   return b"
   ]
  },
  {
   "cell_type": "markdown",
   "metadata": {
    "id": "gim6bIkBWjya"
   },
   "source": [
    "Ejemplo de evaluación de la función."
   ]
  },
  {
   "cell_type": "code",
   "execution_count": null,
   "metadata": {
    "id": "IGWYtG3aWjyc"
   },
   "outputs": [],
   "source": [
    "fib(30)"
   ]
  },
  {
   "cell_type": "markdown",
   "metadata": {
    "id": "-ougwResWjyi"
   },
   "source": [
    "Función con múltiples argumentos."
   ]
  },
  {
   "cell_type": "code",
   "execution_count": null,
   "metadata": {
    "id": "DN0YR9s3Wjyk"
   },
   "outputs": [],
   "source": [
    "def g(x,y): return (x**y)"
   ]
  },
  {
   "cell_type": "code",
   "execution_count": null,
   "metadata": {
    "id": "tC8dD9xRWjyq"
   },
   "outputs": [],
   "source": [
    "g(2,3)"
   ]
  },
  {
   "cell_type": "code",
   "execution_count": null,
   "metadata": {
    "id": "mWZiNd-RWjyx"
   },
   "outputs": [],
   "source": [
    "g(y=3,x=2)"
   ]
  },
  {
   "cell_type": "code",
   "execution_count": null,
   "metadata": {
    "id": "91G1260aWjy2"
   },
   "outputs": [],
   "source": [
    "g(2,x=3)"
   ]
  },
  {
   "cell_type": "markdown",
   "metadata": {
    "id": "eAtYzawRWjy8"
   },
   "source": [
    "Función con valores por defecto (o *argumentos clave*)."
   ]
  },
  {
   "cell_type": "code",
   "execution_count": null,
   "metadata": {
    "id": "E5Lq6PAgWjy-"
   },
   "outputs": [],
   "source": [
    "def j(x,y,z=0): return (x**y+z)"
   ]
  },
  {
   "cell_type": "code",
   "execution_count": null,
   "metadata": {
    "id": "8LCn5RmsWjzD"
   },
   "outputs": [],
   "source": [
    "j(2,3)"
   ]
  },
  {
   "cell_type": "code",
   "execution_count": null,
   "metadata": {
    "id": "3un5mLngWjzI"
   },
   "outputs": [],
   "source": [
    "j(2,3,4)"
   ]
  },
  {
   "cell_type": "markdown",
   "metadata": {},
   "source": [
    "Python da soporte al concepto de *cualquier número de argumentos* o *argumentos clave*. En concreto se puede usar la siguiente sintasis:\n",
    "- `*args`: un número arbitrario de argumentos\n",
    "- `**kwargs`: un número arbitrario de argumentos clave. \n",
    "\n",
    "La parte importante es el `*` y el `**` (`args` y `kwargs` pueden tener otro nombre, pero este es el estándar)."
   ]
  },
  {
   "cell_type": "code",
   "execution_count": null,
   "metadata": {},
   "outputs": [],
   "source": [
    "def any_args(*args):\n",
    "    print(args)"
   ]
  },
  {
   "cell_type": "code",
   "execution_count": null,
   "metadata": {},
   "outputs": [],
   "source": [
    "any_args(1,2,3)"
   ]
  },
  {
   "cell_type": "code",
   "execution_count": null,
   "metadata": {},
   "outputs": [],
   "source": [
    "any_args(1,2,3,4)"
   ]
  },
  {
   "cell_type": "code",
   "execution_count": null,
   "metadata": {},
   "outputs": [],
   "source": [
    "def one_required_arg(required,*args):\n",
    "    print(required)\n",
    "    print(args)"
   ]
  },
  {
   "cell_type": "code",
   "execution_count": null,
   "metadata": {},
   "outputs": [],
   "source": [
    "one_required_arg('Hola','Pepe','Maria')"
   ]
  },
  {
   "cell_type": "code",
   "execution_count": null,
   "metadata": {},
   "outputs": [],
   "source": [
    "def any_keyword_args(**kwargs):\n",
    "    print(kwargs)"
   ]
  },
  {
   "cell_type": "code",
   "execution_count": null,
   "metadata": {},
   "outputs": [],
   "source": [
    "any_keyword_args(1,2,3)"
   ]
  },
  {
   "cell_type": "code",
   "execution_count": null,
   "metadata": {},
   "outputs": [],
   "source": [
    "any_keyword_args(one=1,two=2,three=3)"
   ]
  },
  {
   "cell_type": "code",
   "execution_count": null,
   "metadata": {},
   "outputs": [],
   "source": [
    "def arg_inspector(*args,**kwargs):\n",
    "    print(type(args))\n",
    "    print(type(kwargs))"
   ]
  },
  {
   "cell_type": "code",
   "execution_count": null,
   "metadata": {},
   "outputs": [],
   "source": [
    "arg_inspector(1,2,3,x='test',y=5)"
   ]
  },
  {
   "cell_type": "markdown",
   "metadata": {},
   "source": [
    "### Testing"
   ]
  },
  {
   "cell_type": "code",
   "execution_count": null,
   "metadata": {},
   "outputs": [],
   "source": [
    "def my_fun(x,y):\n",
    "    '''\n",
    "    >>> my_fun(2,3)\n",
    "    5\n",
    "    >>> my_fun(4,6)\n",
    "    10\n",
    "    '''\n",
    "    pass\n",
    "\n",
    "def my_fun2(x,y):\n",
    "    '''\n",
    "    >>> my_fun(2,3)\n",
    "    6\n",
    "    >>> my_fun(4,6)\n",
    "    24\n",
    "    '''\n",
    "    pass"
   ]
  },
  {
   "cell_type": "code",
   "execution_count": null,
   "metadata": {},
   "outputs": [],
   "source": [
    "import doctest\n",
    "doctest.testmod()"
   ]
  },
  {
   "cell_type": "markdown",
   "metadata": {
    "id": "WS1kL1GSWjzN"
   },
   "source": [
    "### Módulos\n",
    "\n",
    "Descargamos el módulo ``operaciones.py``."
   ]
  },
  {
   "cell_type": "code",
   "execution_count": null,
   "metadata": {
    "id": "_1i1SvaBWjzV"
   },
   "outputs": [],
   "source": [
    "!wget https://raw.githubusercontent.com/IA1920/Utils/master/operaciones.py"
   ]
  },
  {
   "cell_type": "code",
   "execution_count": null,
   "metadata": {
    "id": "un0elU7jWjza"
   },
   "outputs": [],
   "source": [
    "import operaciones"
   ]
  },
  {
   "cell_type": "code",
   "execution_count": null,
   "metadata": {
    "id": "1RooU9DDWjze"
   },
   "outputs": [],
   "source": [
    "suma(2,3)"
   ]
  },
  {
   "cell_type": "code",
   "execution_count": null,
   "metadata": {
    "id": "diFVYXw9Wjzj"
   },
   "outputs": [],
   "source": [
    "operaciones.suma(2,3)"
   ]
  },
  {
   "cell_type": "code",
   "execution_count": null,
   "metadata": {
    "id": "UBhS-MBCWjzo"
   },
   "outputs": [],
   "source": [
    "operaciones.division(8,5)"
   ]
  },
  {
   "cell_type": "code",
   "execution_count": null,
   "metadata": {
    "id": "RpwbaEntWjzr"
   },
   "outputs": [],
   "source": [
    "import operaciones as ops"
   ]
  },
  {
   "cell_type": "code",
   "execution_count": null,
   "metadata": {
    "id": "3MSK0MIDWjzx"
   },
   "outputs": [],
   "source": [
    "ops.resta(4,2)"
   ]
  },
  {
   "cell_type": "code",
   "execution_count": null,
   "metadata": {
    "id": "AmoQjV2YWjz1"
   },
   "outputs": [],
   "source": [
    "from operaciones import *"
   ]
  },
  {
   "cell_type": "code",
   "execution_count": null,
   "metadata": {
    "id": "erlTZJh6Wjz5"
   },
   "outputs": [],
   "source": [
    "resta(3,2)"
   ]
  },
  {
   "cell_type": "code",
   "execution_count": null,
   "metadata": {
    "id": "SqbfNGkQWjz9"
   },
   "outputs": [],
   "source": [
    "from operaciones import suma,resta"
   ]
  },
  {
   "cell_type": "code",
   "execution_count": null,
   "metadata": {
    "id": "t44-Ia6TWj0A"
   },
   "outputs": [],
   "source": [
    "suma(2,3)"
   ]
  },
  {
   "cell_type": "code",
   "execution_count": null,
   "metadata": {
    "id": "RzUVpCveWj0E"
   },
   "outputs": [],
   "source": [
    "multiplicacion(2,3)"
   ]
  },
  {
   "cell_type": "markdown",
   "metadata": {
    "id": "k93Y6xwcWj0I"
   },
   "source": [
    "### Comentarios en Python"
   ]
  },
  {
   "cell_type": "code",
   "execution_count": null,
   "metadata": {
    "id": "4lKPL4udWj0K"
   },
   "outputs": [],
   "source": [
    "# Comentario de una línea"
   ]
  },
  {
   "cell_type": "code",
   "execution_count": null,
   "metadata": {
    "id": "WyfmyOA0Wj0M"
   },
   "outputs": [],
   "source": [
    "\"\"\"Comentario de\n",
    "varias líneas\"\"\""
   ]
  },
  {
   "cell_type": "markdown",
   "metadata": {
    "id": "e_iKuGO5Wj0Q"
   },
   "source": [
    "### Tipos de datos\n",
    "\n",
    "Tipos predefinidos: \n",
    "- números, booleanos, cadenas, listas, tuplas, conjuntos y diccionarios.\n",
    "\n",
    "Tipos mutables e inmutables (depende del tipo):\n",
    "- Mutables: objetos cuyo valor puede cambiar.\n",
    "- Inmutables: objetos cuyo valor no puede cambiar una vez han sido creados."
   ]
  },
  {
   "cell_type": "markdown",
   "metadata": {
    "id": "WMQsdL3dWj0S"
   },
   "source": [
    "#### Tipos de datos numéricos"
   ]
  },
  {
   "cell_type": "code",
   "execution_count": null,
   "metadata": {
    "id": "79grwWT7Wj0S"
   },
   "outputs": [],
   "source": [
    "2+2"
   ]
  },
  {
   "cell_type": "code",
   "execution_count": null,
   "metadata": {
    "id": "5kEQVha7Wj0W"
   },
   "outputs": [],
   "source": [
    "(50-5*6)/4"
   ]
  },
  {
   "cell_type": "code",
   "execution_count": null,
   "metadata": {
    "id": "amYEBiqTWj0Z"
   },
   "outputs": [],
   "source": [
    "(50-5*6)//4"
   ]
  },
  {
   "cell_type": "code",
   "execution_count": null,
   "metadata": {
    "id": "cfGVkR5iWj0c"
   },
   "outputs": [],
   "source": [
    "a = (1+2j)/(1+1j)"
   ]
  },
  {
   "cell_type": "code",
   "execution_count": null,
   "metadata": {
    "id": "_8xrUEmHWj0f"
   },
   "outputs": [],
   "source": [
    "a.real"
   ]
  },
  {
   "cell_type": "code",
   "execution_count": null,
   "metadata": {
    "id": "Vf95uh71Wj0j"
   },
   "outputs": [],
   "source": [
    "a.imag"
   ]
  },
  {
   "cell_type": "code",
   "execution_count": null,
   "metadata": {
    "id": "8rsocaXyWj0m"
   },
   "outputs": [],
   "source": [
    "ancho = 20"
   ]
  },
  {
   "cell_type": "code",
   "execution_count": null,
   "metadata": {
    "id": "raYR4f8uWj0o"
   },
   "outputs": [],
   "source": [
    "alto = 5*9"
   ]
  },
  {
   "cell_type": "code",
   "execution_count": null,
   "metadata": {
    "id": "zbyc4-ohWj0r"
   },
   "outputs": [],
   "source": [
    "area = ancho*alto"
   ]
  },
  {
   "cell_type": "code",
   "execution_count": null,
   "metadata": {
    "id": "chba1miVWj0w"
   },
   "outputs": [],
   "source": [
    "area"
   ]
  },
  {
   "cell_type": "code",
   "execution_count": null,
   "metadata": {
    "id": "5YSlBQuYWj0z"
   },
   "outputs": [],
   "source": [
    "area *= 2"
   ]
  },
  {
   "cell_type": "code",
   "execution_count": null,
   "metadata": {
    "id": "TA33SClVWj04"
   },
   "outputs": [],
   "source": [
    "area"
   ]
  },
  {
   "cell_type": "markdown",
   "metadata": {
    "id": "QEfE3scfWj0_"
   },
   "source": [
    "#### Tipos de datos booleanos"
   ]
  },
  {
   "cell_type": "code",
   "execution_count": null,
   "metadata": {
    "id": "R8GNTZ21Wj0_"
   },
   "outputs": [],
   "source": [
    "2 == 2"
   ]
  },
  {
   "cell_type": "code",
   "execution_count": null,
   "metadata": {
    "id": "iHgGDIpyWj1D"
   },
   "outputs": [],
   "source": [
    "2 == 3"
   ]
  },
  {
   "cell_type": "code",
   "execution_count": null,
   "metadata": {
    "id": "us_3I1Z9Wj1G"
   },
   "outputs": [],
   "source": [
    "True and 2==2"
   ]
  },
  {
   "cell_type": "code",
   "execution_count": null,
   "metadata": {
    "id": "5EyhqVa1Wj1I"
   },
   "outputs": [],
   "source": [
    "False or 2==2"
   ]
  },
  {
   "cell_type": "code",
   "execution_count": null,
   "metadata": {
    "id": "yW-0IiFJWj1N"
   },
   "outputs": [],
   "source": [
    "not False"
   ]
  },
  {
   "cell_type": "code",
   "execution_count": null,
   "metadata": {
    "id": "nyHnLZ-ZWj1Q"
   },
   "outputs": [],
   "source": [
    "True == 1"
   ]
  },
  {
   "cell_type": "code",
   "execution_count": null,
   "metadata": {
    "id": "C-Iiq-PEWj1T"
   },
   "outputs": [],
   "source": [
    "True == 2"
   ]
  },
  {
   "cell_type": "code",
   "execution_count": null,
   "metadata": {
    "id": "tzfk8QB3Wj1W"
   },
   "outputs": [],
   "source": [
    "False == 2"
   ]
  },
  {
   "cell_type": "code",
   "execution_count": null,
   "metadata": {
    "id": "MJP55MB6Wj1Y"
   },
   "outputs": [],
   "source": [
    "False == 0"
   ]
  },
  {
   "cell_type": "markdown",
   "metadata": {
    "id": "Qa1fQEKFWj1c"
   },
   "source": [
    "#### Tipos de datos cadena"
   ]
  },
  {
   "cell_type": "code",
   "execution_count": null,
   "metadata": {
    "id": "ZYyRMEZbWj1e"
   },
   "outputs": [],
   "source": [
    "c1 = \"Buenos\""
   ]
  },
  {
   "cell_type": "code",
   "execution_count": null,
   "metadata": {
    "id": "W0nb9Nf-Wj1h"
   },
   "outputs": [],
   "source": [
    "c2 = \" días\""
   ]
  },
  {
   "cell_type": "code",
   "execution_count": null,
   "metadata": {
    "id": "PFIgC4X7Wj1l"
   },
   "outputs": [],
   "source": [
    "c1 + c2"
   ]
  },
  {
   "cell_type": "code",
   "execution_count": null,
   "metadata": {
    "id": "MCKjAfX3Wj1o"
   },
   "outputs": [],
   "source": [
    "len(c1)"
   ]
  },
  {
   "cell_type": "markdown",
   "metadata": {
    "id": "WGcnIyZBWj1u"
   },
   "source": [
    "##### String slicing\n",
    "\n",
    "Sintaxis slice sirve para referirse a subpartes de strings o de listas.\n",
    "\n",
    "Slice: ``s[start:end]`` $rightarrow$ elementos de ``s`` que empiezan en la posición ``start`` y terminan en la posición ``end-1``."
   ]
  },
  {
   "cell_type": "code",
   "execution_count": null,
   "metadata": {
    "id": "ltI_NN4cWj1w"
   },
   "outputs": [],
   "source": [
    "s = \"Hello\""
   ]
  },
  {
   "cell_type": "code",
   "execution_count": null,
   "metadata": {
    "id": "CBUL1kv4Wj1x"
   },
   "outputs": [],
   "source": [
    "s[1:4]"
   ]
  },
  {
   "cell_type": "code",
   "execution_count": null,
   "metadata": {
    "id": "PoZJRrvTWj11"
   },
   "outputs": [],
   "source": [
    "s[1:]"
   ]
  },
  {
   "cell_type": "code",
   "execution_count": null,
   "metadata": {
    "id": "zHcUIBYEWj13"
   },
   "outputs": [],
   "source": [
    "s[:]"
   ]
  },
  {
   "cell_type": "code",
   "execution_count": null,
   "metadata": {
    "id": "NBJHlVVCWj16"
   },
   "outputs": [],
   "source": [
    "s[1:100]"
   ]
  },
  {
   "cell_type": "code",
   "execution_count": null,
   "metadata": {
    "id": "x-G_yhlmWj19"
   },
   "outputs": [],
   "source": [
    "s[-1]"
   ]
  },
  {
   "cell_type": "code",
   "execution_count": null,
   "metadata": {
    "id": "gmr7izXDWj2A"
   },
   "outputs": [],
   "source": [
    "s[4]"
   ]
  },
  {
   "cell_type": "code",
   "execution_count": null,
   "metadata": {
    "id": "-yS5hutoWj2E"
   },
   "outputs": [],
   "source": [
    "s[:-3]"
   ]
  },
  {
   "cell_type": "code",
   "execution_count": null,
   "metadata": {
    "id": "aCjq6g-TWj2G"
   },
   "outputs": [],
   "source": [
    "s[-3:]"
   ]
  },
  {
   "cell_type": "markdown",
   "metadata": {
    "id": "Q19o0p-IWj2W"
   },
   "source": [
    "##### Métodos con strings"
   ]
  },
  {
   "cell_type": "code",
   "execution_count": null,
   "metadata": {
    "id": "5sN7uxaoWj2X"
   },
   "outputs": [],
   "source": [
    "s.lower()"
   ]
  },
  {
   "cell_type": "code",
   "execution_count": null,
   "metadata": {
    "id": "8S9R4IpCWj2Z"
   },
   "outputs": [],
   "source": [
    "s.upper()"
   ]
  },
  {
   "cell_type": "code",
   "execution_count": null,
   "metadata": {
    "id": "Ls17x-usWj2b"
   },
   "outputs": [],
   "source": [
    "\" Buenos días \".strip()"
   ]
  },
  {
   "cell_type": "code",
   "execution_count": null,
   "metadata": {
    "id": "xZAbgOIWWj2e"
   },
   "outputs": [],
   "source": [
    "??s.strip"
   ]
  },
  {
   "cell_type": "code",
   "execution_count": null,
   "metadata": {
    "id": "l_AMPzk8Wj2i"
   },
   "outputs": [],
   "source": [
    "'a'.isdigit()"
   ]
  },
  {
   "cell_type": "code",
   "execution_count": null,
   "metadata": {
    "id": "HqqppldcWj2k"
   },
   "outputs": [],
   "source": [
    "'a'.isalpha()"
   ]
  },
  {
   "cell_type": "code",
   "execution_count": null,
   "metadata": {
    "id": "T8T45VtlWj2m"
   },
   "outputs": [],
   "source": [
    "'a'.isspace()"
   ]
  },
  {
   "cell_type": "code",
   "execution_count": null,
   "metadata": {
    "id": "UHRW6HscWj2p"
   },
   "outputs": [],
   "source": [
    "s.startswith('h')"
   ]
  },
  {
   "cell_type": "code",
   "execution_count": null,
   "metadata": {
    "id": "RCTR_m8oWj2s"
   },
   "outputs": [],
   "source": [
    "s.endswith('o')"
   ]
  },
  {
   "cell_type": "code",
   "execution_count": null,
   "metadata": {
    "id": "fnj8Tw_7Wj2u"
   },
   "outputs": [],
   "source": [
    "s.find('l')"
   ]
  },
  {
   "cell_type": "code",
   "execution_count": null,
   "metadata": {
    "id": "LfUzNaQBWj2y"
   },
   "outputs": [],
   "source": [
    "s.rfind('l')"
   ]
  },
  {
   "cell_type": "code",
   "execution_count": null,
   "metadata": {
    "id": "kmrUrKx7Wj21"
   },
   "outputs": [],
   "source": [
    "s.replace('l','m')"
   ]
  },
  {
   "cell_type": "code",
   "execution_count": null,
   "metadata": {
    "id": "8aPtmHbfWj24"
   },
   "outputs": [],
   "source": [
    "s1 = \"Bienvenidos a la asignatura de Inteligencia Artificial\""
   ]
  },
  {
   "cell_type": "code",
   "execution_count": null,
   "metadata": {
    "id": "3I_2g7wuWj27"
   },
   "outputs": [],
   "source": [
    "s1.split(' ')"
   ]
  },
  {
   "cell_type": "code",
   "execution_count": null,
   "metadata": {
    "id": "brBjqg1AWj2-"
   },
   "outputs": [],
   "source": [
    "' '.join(s1.split(' '))"
   ]
  },
  {
   "cell_type": "markdown",
   "metadata": {
    "id": "ajXSf2hR7jzD"
   },
   "source": [
    "El método `dir` nos proporciona una lista de todos las funciones que podemos aplicar."
   ]
  },
  {
   "cell_type": "code",
   "execution_count": null,
   "metadata": {
    "id": "56o7CZNv7p5P"
   },
   "outputs": [],
   "source": [
    "dir(s)"
   ]
  },
  {
   "cell_type": "markdown",
   "metadata": {
    "id": "6QgeoQ9-Wj3A"
   },
   "source": [
    "##### Escritura por pantalla"
   ]
  },
  {
   "cell_type": "code",
   "execution_count": null,
   "metadata": {
    "id": "VzTQJJX7Wj3B"
   },
   "outputs": [],
   "source": [
    "print(\"Inteligencia Artificial\")"
   ]
  },
  {
   "cell_type": "code",
   "execution_count": null,
   "metadata": {
    "id": "obirLnGCWj3F"
   },
   "outputs": [],
   "source": [
    "print(\"Hola %s, quedan %i dias\" % (\"Pepe\",5))"
   ]
  },
  {
   "cell_type": "code",
   "execution_count": null,
   "metadata": {
    "id": "4mXtFU2fWj3L"
   },
   "outputs": [],
   "source": [
    "c = \"{0} por {1} es {2}\" "
   ]
  },
  {
   "cell_type": "code",
   "execution_count": null,
   "metadata": {
    "id": "vMVurSzVWj3M"
   },
   "outputs": [],
   "source": [
    "x , y = 2,3"
   ]
  },
  {
   "cell_type": "code",
   "execution_count": null,
   "metadata": {
    "id": "4NfGCDeKWj3P"
   },
   "outputs": [],
   "source": [
    "print(c.format(x,y,x*y))"
   ]
  },
  {
   "cell_type": "markdown",
   "metadata": {
    "id": "t5Lhkuh-Wj3R"
   },
   "source": [
    "##### Lectura de teclado"
   ]
  },
  {
   "cell_type": "code",
   "execution_count": null,
   "metadata": {
    "id": "63IbFWkJWj3S"
   },
   "outputs": [],
   "source": [
    "nombre = input(\"Introduce tu nombre: \")"
   ]
  },
  {
   "cell_type": "code",
   "execution_count": null,
   "metadata": {
    "id": "gduHKWojWj3V"
   },
   "outputs": [],
   "source": [
    "print(nombre)"
   ]
  },
  {
   "cell_type": "markdown",
   "metadata": {
    "id": "dtUWU4zbWj3Y"
   },
   "source": [
    "#### Listas\n",
    "\n",
    "- Tipo muy utilizado en Python.\n",
    "- Secuencia de elementos separados por comas y entre corchetes.\n",
    "- Funciona de manera similar a los strings:\n",
    "    - Función ``len``, slicing con misma sintáxis, ...\n",
    "- Contienen cualquier tipo de objeto, pueden tener distintos tipos de objetos.\n",
    "- Listas son mutables. "
   ]
  },
  {
   "cell_type": "code",
   "execution_count": null,
   "metadata": {
    "id": "sRy_etR1Wj3a"
   },
   "outputs": [],
   "source": [
    "lista  = [1,2,3,4]"
   ]
  },
  {
   "cell_type": "code",
   "execution_count": null,
   "metadata": {
    "id": "9muofhozWj3b"
   },
   "outputs": [],
   "source": [
    "len(lista)"
   ]
  },
  {
   "cell_type": "code",
   "execution_count": null,
   "metadata": {
    "id": "5RX_adzvWj3e"
   },
   "outputs": [],
   "source": [
    "lista[0]"
   ]
  },
  {
   "cell_type": "code",
   "execution_count": null,
   "metadata": {
    "id": "9UMS6lW-Wj3f"
   },
   "outputs": [],
   "source": [
    "lista[1:]"
   ]
  },
  {
   "cell_type": "code",
   "execution_count": null,
   "metadata": {
    "id": "Ym74ThpuWj3i"
   },
   "outputs": [],
   "source": [
    "lista[1]=5"
   ]
  },
  {
   "cell_type": "code",
   "execution_count": null,
   "metadata": {
    "id": "OqcY6KBuWj3j"
   },
   "outputs": [],
   "source": [
    "lista"
   ]
  },
  {
   "cell_type": "markdown",
   "metadata": {
    "id": "lunDBBx5Wj3l"
   },
   "source": [
    "A continuación se muestran distintos métodos sobre listas que modifican la lista sobre la que se aplican, pero no devuelven nada."
   ]
  },
  {
   "cell_type": "code",
   "execution_count": null,
   "metadata": {
    "id": "67mWzyK0Wj3n"
   },
   "outputs": [],
   "source": [
    "l1=lista.append(6)"
   ]
  },
  {
   "cell_type": "code",
   "execution_count": null,
   "metadata": {
    "id": "z1S_Fe3oWj3o"
   },
   "outputs": [],
   "source": [
    "lista"
   ]
  },
  {
   "cell_type": "code",
   "execution_count": null,
   "metadata": {
    "id": "cO_0JNT1Wj3r"
   },
   "outputs": [],
   "source": [
    "l1"
   ]
  },
  {
   "cell_type": "code",
   "execution_count": null,
   "metadata": {
    "id": "zGQuhrrMWj3t"
   },
   "outputs": [],
   "source": [
    "lista.insert(1,7)"
   ]
  },
  {
   "cell_type": "code",
   "execution_count": null,
   "metadata": {
    "id": "zU3HfZVEWj3v"
   },
   "outputs": [],
   "source": [
    "lista"
   ]
  },
  {
   "cell_type": "code",
   "execution_count": null,
   "metadata": {
    "id": "0JK8CCCxWj3w"
   },
   "outputs": [],
   "source": [
    "lista.extend(lista)"
   ]
  },
  {
   "cell_type": "code",
   "execution_count": null,
   "metadata": {
    "id": "89MX3zBVWj3y"
   },
   "outputs": [],
   "source": [
    "lista"
   ]
  },
  {
   "cell_type": "code",
   "execution_count": null,
   "metadata": {
    "id": "BmjygYVIWj31"
   },
   "outputs": [],
   "source": [
    "lista.index(7)"
   ]
  },
  {
   "cell_type": "code",
   "execution_count": null,
   "metadata": {
    "id": "LA3BHAy5Wj33"
   },
   "outputs": [],
   "source": [
    "lista.remove(7)"
   ]
  },
  {
   "cell_type": "code",
   "execution_count": null,
   "metadata": {
    "id": "RMZosyvCWj35"
   },
   "outputs": [],
   "source": [
    "lista"
   ]
  },
  {
   "cell_type": "code",
   "execution_count": null,
   "metadata": {
    "id": "PCqYEr5yWj37"
   },
   "outputs": [],
   "source": [
    "lista.sort()"
   ]
  },
  {
   "cell_type": "code",
   "execution_count": null,
   "metadata": {
    "id": "lZ16cytRWj39"
   },
   "outputs": [],
   "source": [
    "lista"
   ]
  },
  {
   "cell_type": "code",
   "execution_count": null,
   "metadata": {
    "id": "01inQtcIWj4A"
   },
   "outputs": [],
   "source": [
    "lista.reverse()\n",
    "lista"
   ]
  },
  {
   "cell_type": "code",
   "execution_count": null,
   "metadata": {
    "id": "bcc4Gl89Wj4B"
   },
   "outputs": [],
   "source": [
    "lista.pop(2)"
   ]
  },
  {
   "cell_type": "code",
   "execution_count": null,
   "metadata": {
    "id": "X5tCKkigWj4E"
   },
   "outputs": [],
   "source": [
    "lista"
   ]
  },
  {
   "cell_type": "code",
   "execution_count": null,
   "metadata": {
    "id": "L2TqdIz0Wj4H"
   },
   "outputs": [],
   "source": [
    "lista.sort().reverse()"
   ]
  },
  {
   "cell_type": "markdown",
   "metadata": {
    "id": "FQs2W-2aWj4I"
   },
   "source": [
    "#### Tuplas\n",
    "\n",
    "- Agrupación de elementos de tamaño fijo.\n",
    "- Son inmutables, no se puede cambiar su tamaño.\n",
    "- Juegan el papel de registros.\n",
    "- Función que devuelve varios valores puede devolver una tupla.\n",
    "- Ejemplo. Lista de coordenadas 3D se puede representar mediante lista de tuplas. "
   ]
  },
  {
   "cell_type": "code",
   "execution_count": null,
   "metadata": {
    "id": "5K7Xi9kWWj4I"
   },
   "outputs": [],
   "source": [
    "tuple = (1,2,\"3\")"
   ]
  },
  {
   "cell_type": "code",
   "execution_count": null,
   "metadata": {
    "id": "QBAXEtHdWj4L"
   },
   "outputs": [],
   "source": [
    "len(tuple)"
   ]
  },
  {
   "cell_type": "code",
   "execution_count": null,
   "metadata": {
    "id": "UxUyNBjiWj4N"
   },
   "outputs": [],
   "source": [
    "tuple[2]"
   ]
  },
  {
   "cell_type": "code",
   "execution_count": null,
   "metadata": {
    "id": "XtrQfa4lWj4b"
   },
   "outputs": [],
   "source": [
    "tuple[2] = \"bye\""
   ]
  },
  {
   "cell_type": "code",
   "execution_count": null,
   "metadata": {
    "id": "yMSkDEToWj4d"
   },
   "outputs": [],
   "source": [
    "a,b,c=(1,2,3)"
   ]
  },
  {
   "cell_type": "code",
   "execution_count": null,
   "metadata": {
    "id": "JQuNzR4RWj4e"
   },
   "outputs": [],
   "source": [
    "a"
   ]
  },
  {
   "cell_type": "code",
   "execution_count": null,
   "metadata": {
    "id": "2gBxSUaBWj4h"
   },
   "outputs": [],
   "source": [
    "b"
   ]
  },
  {
   "cell_type": "code",
   "execution_count": null,
   "metadata": {
    "id": "sRKHToxoWj4i"
   },
   "outputs": [],
   "source": [
    "c"
   ]
  },
  {
   "cell_type": "markdown",
   "metadata": {
    "id": "Z24g8WMTWj4k"
   },
   "source": [
    "#### Conjuntos\n",
    "\n",
    "- Colecciones de datos sin orden y sin duplicados.\n",
    "- Se representan entre llaves y elementos están separados por comas.\n",
    "- Conjuntos son mutables."
   ]
  },
  {
   "cell_type": "code",
   "execution_count": null,
   "metadata": {
    "id": "-ueYYK3qWj4l"
   },
   "outputs": [],
   "source": [
    "cesta = {'peras','manzanas','peras','manzanas'}"
   ]
  },
  {
   "cell_type": "code",
   "execution_count": null,
   "metadata": {
    "id": "p46YQ6EZWj4m"
   },
   "outputs": [],
   "source": [
    "cesta"
   ]
  },
  {
   "cell_type": "code",
   "execution_count": null,
   "metadata": {
    "id": "fAxD3hM5Wj4o"
   },
   "outputs": [],
   "source": [
    "'melocotones' in cesta"
   ]
  },
  {
   "cell_type": "code",
   "execution_count": null,
   "metadata": {
    "id": "gMc0I0DCWj4q"
   },
   "outputs": [],
   "source": [
    "s = {1,3,5,7,9}"
   ]
  },
  {
   "cell_type": "code",
   "execution_count": null,
   "metadata": {
    "id": "Usx25P-cWj4t"
   },
   "outputs": [],
   "source": [
    "s.add(10)"
   ]
  },
  {
   "cell_type": "code",
   "execution_count": null,
   "metadata": {
    "id": "hBwrZH1AWj4w"
   },
   "outputs": [],
   "source": [
    "s"
   ]
  },
  {
   "cell_type": "markdown",
   "metadata": {
    "id": "txCTXFrgWj40"
   },
   "source": [
    "Unión de conjuntos (no modifica conjunto original)."
   ]
  },
  {
   "cell_type": "code",
   "execution_count": null,
   "metadata": {
    "id": "rtpA3oqfWj41"
   },
   "outputs": [],
   "source": [
    "s | {1,2,4}"
   ]
  },
  {
   "cell_type": "code",
   "execution_count": null,
   "metadata": {
    "id": "20oNvFUfWj43"
   },
   "outputs": [],
   "source": [
    "s"
   ]
  },
  {
   "cell_type": "markdown",
   "metadata": {
    "id": "WdG9d36XWj45"
   },
   "source": [
    "Intersección de cojuntos"
   ]
  },
  {
   "cell_type": "code",
   "execution_count": null,
   "metadata": {
    "id": "ALwfWBO8Wj46"
   },
   "outputs": [],
   "source": [
    "s & {4,7,15}"
   ]
  },
  {
   "cell_type": "code",
   "execution_count": null,
   "metadata": {
    "id": "irETFjOcWj48"
   },
   "outputs": [],
   "source": [
    "s <= {1,3,5,7,9,10,11}"
   ]
  },
  {
   "cell_type": "code",
   "execution_count": null,
   "metadata": {
    "id": "ro_NwVkQWj49"
   },
   "outputs": [],
   "source": [
    "s <= {1,2,5,7,9,10,11}"
   ]
  },
  {
   "cell_type": "code",
   "execution_count": null,
   "metadata": {
    "id": "XhoPBBoJWj5A"
   },
   "outputs": [],
   "source": [
    "s = set()"
   ]
  },
  {
   "cell_type": "code",
   "execution_count": null,
   "metadata": {
    "id": "8nJs3NuCWj5B"
   },
   "outputs": [],
   "source": [
    "s"
   ]
  },
  {
   "cell_type": "code",
   "execution_count": null,
   "metadata": {
    "id": "6NMFlAGHWj5C"
   },
   "outputs": [],
   "source": [
    "s1 = {}"
   ]
  },
  {
   "cell_type": "code",
   "execution_count": null,
   "metadata": {
    "id": "_klngb9lWj5F"
   },
   "outputs": [],
   "source": [
    "s1"
   ]
  },
  {
   "cell_type": "code",
   "execution_count": null,
   "metadata": {
    "id": "OKNdwkWHWj5I"
   },
   "outputs": [],
   "source": [
    "s1.add(2)"
   ]
  },
  {
   "cell_type": "markdown",
   "metadata": {
    "id": "8kReTWzsWj5K"
   },
   "source": [
    "#### Diccionarios\n",
    "\n",
    "- Estructura muy útil en Python.\n",
    "- Colección no ordenada de pares clave : valor.\n",
    "- Mutables.\n",
    "- Pueden verse como tablas hash.\n",
    "- Propiedades:\n",
    "    - Elementos se acceden mediante clave.\n",
    "    - Elementos se almacenan en orden aleatorio. \n",
    "    - Tamaño variable.\n",
    "    - Pueden contener objetos de cualquier tipo.\n",
    "    - Soportan anidamientos."
   ]
  },
  {
   "cell_type": "code",
   "execution_count": null,
   "metadata": {
    "id": "WUUQAdzyWj5L"
   },
   "outputs": [],
   "source": [
    "tel = {\"juan\":4098,\"ana\":4137}"
   ]
  },
  {
   "cell_type": "code",
   "execution_count": null,
   "metadata": {
    "id": "2zc_vtPTWj5N"
   },
   "outputs": [],
   "source": [
    "tel[\"ana\"]"
   ]
  },
  {
   "cell_type": "code",
   "execution_count": null,
   "metadata": {
    "id": "3iQQnvhJWj5P"
   },
   "outputs": [],
   "source": [
    "\"ana\" in tel"
   ]
  },
  {
   "cell_type": "code",
   "execution_count": null,
   "metadata": {
    "id": "mzp2S5n7Wj5R"
   },
   "outputs": [],
   "source": [
    "tel[\"pedro\"]=4118"
   ]
  },
  {
   "cell_type": "code",
   "execution_count": null,
   "metadata": {
    "id": "Y3Fg8w5cWj5T"
   },
   "outputs": [],
   "source": [
    "tel"
   ]
  },
  {
   "cell_type": "code",
   "execution_count": null,
   "metadata": {
    "id": "dIr29nYhWj5V"
   },
   "outputs": [],
   "source": [
    "tel.keys()"
   ]
  },
  {
   "cell_type": "code",
   "execution_count": null,
   "metadata": {
    "id": "Hm1GABNCWj5X"
   },
   "outputs": [],
   "source": [
    "del tel['ana']"
   ]
  },
  {
   "cell_type": "code",
   "execution_count": null,
   "metadata": {
    "id": "HSeGLFUjWj5Z"
   },
   "outputs": [],
   "source": [
    "tel"
   ]
  },
  {
   "cell_type": "code",
   "execution_count": null,
   "metadata": {
    "id": "yqysRVmFWj5b"
   },
   "outputs": [],
   "source": [
    "tel.items()"
   ]
  },
  {
   "cell_type": "code",
   "execution_count": null,
   "metadata": {
    "id": "nNEode4dWj5d"
   },
   "outputs": [],
   "source": [
    "tel[\"olga\"]"
   ]
  },
  {
   "cell_type": "markdown",
   "metadata": {
    "id": "Z7veS5xOWj5j"
   },
   "source": [
    "### Estructuras de control\n",
    "\n",
    "Estructuras habituales:\n",
    "    - Ifs.\n",
    "    - Bucles for.\n",
    "    - Bucles while."
   ]
  },
  {
   "cell_type": "code",
   "execution_count": null,
   "metadata": {
    "id": "zWBWTkukWj5k"
   },
   "outputs": [],
   "source": [
    "def signo(x):\n",
    "    if x < 0:\n",
    "        return \"negativo\"\n",
    "    elif x > 0:\n",
    "        return \"positivo\"\n",
    "    else:\n",
    "        return \"0\""
   ]
  },
  {
   "cell_type": "code",
   "execution_count": null,
   "metadata": {
    "id": "nCMNZHvJWj5n"
   },
   "outputs": [],
   "source": [
    "def media(lista):\n",
    "    suma = 0\n",
    "    for x in lista:\n",
    "        suma += x\n",
    "    return suma/len(lista)"
   ]
  },
  {
   "cell_type": "markdown",
   "metadata": {
    "id": "yKVTwV6mWj5o"
   },
   "source": [
    "### Patrones de iteración"
   ]
  },
  {
   "cell_type": "code",
   "execution_count": null,
   "metadata": {
    "id": "NJyMfU_UWj5p"
   },
   "outputs": [],
   "source": [
    "for i, col in enumerate(['rojo','azul','amarillo']):\n",
    "    print(i,col)"
   ]
  },
  {
   "cell_type": "code",
   "execution_count": null,
   "metadata": {
    "id": "PZyMYF-mWj5r"
   },
   "outputs": [],
   "source": [
    "preguntas = ['nombre','apellido','color favorito']"
   ]
  },
  {
   "cell_type": "code",
   "execution_count": null,
   "metadata": {
    "id": "sWA_cNSIWj5t"
   },
   "outputs": [],
   "source": [
    "respuestas = ['Juan','Pérez','rojo']"
   ]
  },
  {
   "cell_type": "code",
   "execution_count": null,
   "metadata": {
    "id": "7CTumXepWj5v"
   },
   "outputs": [],
   "source": [
    "for p, r in zip(preguntas,respuestas):\n",
    "    print('Mi {0} es {1}.'.format(p,r))"
   ]
  },
  {
   "cell_type": "code",
   "execution_count": null,
   "metadata": {
    "id": "y6WmBMYpWj5x"
   },
   "outputs": [],
   "source": [
    "for i in reversed(range(1,10,2)):\n",
    "    print(i,end=\"-\")"
   ]
  },
  {
   "cell_type": "markdown",
   "metadata": {
    "id": "JJ_G3yLXWj5z"
   },
   "source": [
    "### Instalación de módulos"
   ]
  },
  {
   "cell_type": "code",
   "execution_count": null,
   "metadata": {
    "id": "ujr5-JzCWj5z"
   },
   "outputs": [],
   "source": [
    "!pip install numpy"
   ]
  },
  {
   "cell_type": "markdown",
   "metadata": {
    "id": "WgO3IqCZWj52"
   },
   "source": [
    "### Tipado estático\n",
    "\n",
    "Por defecto en Python el tipado es dinámico, pero..."
   ]
  },
  {
   "cell_type": "code",
   "execution_count": null,
   "metadata": {
    "id": "gCchPRYoWj52"
   },
   "outputs": [],
   "source": [
    "def obtener_nombre(nombre_completo):\n",
    "    return nombre_completo.split(\" \")[0]\n",
    "\n",
    "fallback_name = {\n",
    "    \"nombre\": \"Pepe\",\n",
    "    \"apellido\": \"Perez\"\n",
    "}"
   ]
  },
  {
   "cell_type": "code",
   "execution_count": null,
   "metadata": {
    "id": "Vabi53YyWj55"
   },
   "outputs": [],
   "source": [
    "raw = input(\"Introduce tu nombre: \")\n",
    "nombre = obtener_nombre(raw)\n",
    "\n",
    "if not nombre:\n",
    "    nombre = obtener_nombre(fallback_name)\n",
    "\n",
    "print(f\"¡Hola, {nombre}!\")"
   ]
  },
  {
   "cell_type": "markdown",
   "metadata": {
    "id": "F_U0XCGOWj57"
   },
   "source": [
    "Se pueden comprobar los tipos usando el paquete de Python [mypy](http://mypy-lang.org/). Para usarlo en los notebooks de Jupyter hay que instalar mypy y la [celda mágica](https://ipython.readthedocs.io/en/stable/interactive/magics.html) [``typecheck``](https://gist.github.com/knowsuchagency/f7b2203dd613756a45f816d6809f01a6)."
   ]
  },
  {
   "cell_type": "code",
   "execution_count": null,
   "metadata": {
    "id": "171V5B1UWj57"
   },
   "outputs": [],
   "source": [
    "!pip install mypy\n",
    "!wget https://raw.githubusercontent.com/IA1920/Utils/master/typecheck.py"
   ]
  },
  {
   "cell_type": "code",
   "execution_count": null,
   "metadata": {
    "id": "PDkAWyH5Wj59"
   },
   "outputs": [],
   "source": [
    "from typecheck import *"
   ]
  },
  {
   "cell_type": "code",
   "execution_count": null,
   "metadata": {
    "id": "RbnIMFZPWj5_"
   },
   "outputs": [],
   "source": [
    "%%typecheck\n",
    "from typing import Dict\n",
    "\n",
    "def obtener_nombre(nombre_completo:str)->str:\n",
    "    return nombre_completo.split(\" \")[0]\n",
    "\n",
    "fallback_name : Dict[str,str] = {\n",
    "    \"nombre\": \"Pepe\",\n",
    "    \"apellido\": \"Perez\"\n",
    "}\n",
    "\n",
    "raw : str = input(\"Introduce tu nombre: \")\n",
    "nombre : str = obtener_nombre(raw)\n",
    "\n",
    "if not nombre:\n",
    "    nombre = obtener_nombre(fallback_name)\n",
    "\n",
    "print(f\"¡Hola, {nombre}!\")"
   ]
  },
  {
   "cell_type": "markdown",
   "metadata": {
    "id": "45CSA6YyWj6C"
   },
   "source": [
    "Tipos básicos:\n",
    "- ``int``, ``float``, ``complex``.\n",
    "- ``str``.\n",
    "- ``bool``.\n",
    "\n",
    "Tipos complejos (usando módulo [typing](https://docs.python.org/3.6/library/typing.html)):\n",
    "- ``Dict``, ``List``, ``Tuple``, ``Set``, ``Callable``, ``Optional``, ``Any``.\n",
    "- Parámetros entre corchetes: ``Dict[str,int]``, ``List[int]``.\n",
    "- Generics, tipos propios, ..."
   ]
  },
  {
   "cell_type": "markdown",
   "metadata": {
    "id": "V-ZBd7NBWj6D"
   },
   "source": [
    "Se pueden ver los tipos de los objetos."
   ]
  },
  {
   "cell_type": "code",
   "execution_count": null,
   "metadata": {
    "id": "yvbxXOo2Wj6D"
   },
   "outputs": [],
   "source": [
    "from typing import *"
   ]
  },
  {
   "cell_type": "code",
   "execution_count": null,
   "metadata": {
    "id": "pDAvaCU-Wj6G"
   },
   "outputs": [],
   "source": [
    "%%typecheck\n",
    "reveal_type(1)\n",
    "reveal_type(len)"
   ]
  },
  {
   "cell_type": "markdown",
   "metadata": {
    "id": "-PFN3bPXWj6W"
   },
   "source": [
    "### Definición por comprensión\n",
    "\n",
    "Definición de listas, tuplas y conjuntos:\n",
    "- Por extensión: dando todos sus elementos.\n",
    "- Por comprensión: elementos se definen por propiedades en común."
   ]
  },
  {
   "cell_type": "code",
   "execution_count": null,
   "metadata": {
    "colab": {
     "base_uri": "https://localhost:8080/",
     "height": 35
    },
    "id": "fxH2qJwmWj6X",
    "outputId": "94efc87d-ff4c-4f2f-a577-56a4a40896a0"
   },
   "outputs": [],
   "source": [
    "[a for a in range(0,6)]"
   ]
  },
  {
   "cell_type": "code",
   "execution_count": null,
   "metadata": {
    "colab": {
     "base_uri": "https://localhost:8080/",
     "height": 35
    },
    "id": "SvPEfRWKWj6Z",
    "outputId": "fbc26171-299c-4a5f-d18d-4387f4e1e65f"
   },
   "outputs": [],
   "source": [
    "[a for a in range(0,6) if a % 2 == 0 ]"
   ]
  },
  {
   "cell_type": "code",
   "execution_count": null,
   "metadata": {
    "colab": {
     "base_uri": "https://localhost:8080/",
     "height": 35
    },
    "id": "2uHc4kXQWj6b",
    "outputId": "685e122b-d370-4982-f359-c8c18a0988af"
   },
   "outputs": [],
   "source": [
    "[a*a for a in range(0,6) if a % 2 == 0 ]"
   ]
  },
  {
   "cell_type": "code",
   "execution_count": null,
   "metadata": {
    "colab": {
     "base_uri": "https://localhost:8080/",
     "height": 173
    },
    "id": "xuKAm35xWj6d",
    "outputId": "a2963ee5-0108-4c4f-984a-63e6130d71a5"
   },
   "outputs": [],
   "source": [
    "[(x,y) for x in [1,2,3] for y in ['a','b','c']]"
   ]
  },
  {
   "cell_type": "code",
   "execution_count": null,
   "metadata": {
    "colab": {
     "base_uri": "https://localhost:8080/",
     "height": 35
    },
    "id": "oftKEKRjWj6f",
    "outputId": "173ed8bc-e92f-469f-c352-0e4ef58be462"
   },
   "outputs": [],
   "source": [
    "tuple(a for a in range(6) if a % 2 == 0)"
   ]
  },
  {
   "cell_type": "code",
   "execution_count": null,
   "metadata": {
    "colab": {
     "base_uri": "https://localhost:8080/",
     "height": 35
    },
    "id": "7q0TIuZFWj6h",
    "outputId": "453dd89b-fbab-47c3-f15a-caa7e1457934"
   },
   "outputs": [],
   "source": [
    "tuple(a%3 for a in range(9))"
   ]
  },
  {
   "cell_type": "markdown",
   "metadata": {
    "id": "RpM1Pz2FWj6j"
   },
   "source": [
    "#### Ejercicios\n",
    "\n",
    "Usando listas por comprensión.\n",
    "\n",
    "Definir una función de determine si un número es primo."
   ]
  },
  {
   "cell_type": "code",
   "execution_count": null,
   "metadata": {
    "id": "d1PadhQZWj6j"
   },
   "outputs": [],
   "source": [
    "def esPrimo(n):\n",
    "    return len([a for a in range(1,n) if n%a==0])==1"
   ]
  },
  {
   "cell_type": "code",
   "execution_count": null,
   "metadata": {
    "colab": {
     "base_uri": "https://localhost:8080/",
     "height": 35
    },
    "id": "kishC5npZEbO",
    "outputId": "3ab068b7-2cc1-4d4f-cdfb-517d63993c4a"
   },
   "outputs": [],
   "source": [
    "esPrimo(23)"
   ]
  },
  {
   "cell_type": "markdown",
   "metadata": {
    "id": "AV-DmSMzWj6l"
   },
   "source": [
    "Dar la lista de los números primos entre 1 y 5000."
   ]
  },
  {
   "cell_type": "code",
   "execution_count": null,
   "metadata": {
    "colab": {
     "base_uri": "https://localhost:8080/",
     "height": 1000
    },
    "id": "bXKEMbMgWj6m",
    "outputId": "3215050b-7578-4b55-c9e6-bfb972a08989"
   },
   "outputs": [],
   "source": [
    "[a for a in range(1,5000) if esPrimo(a)]"
   ]
  },
  {
   "cell_type": "markdown",
   "metadata": {
    "id": "dNCJrxeEWj6o"
   },
   "source": [
    "Definir una función que dado n calcula el valor de $\\pi$ mediante la expresión $4*\\sum\\limits_{i=0}^n \\frac{(-1)^i}{(2i+1)}$. Pista. ¿Qué hace la función ``sum``?"
   ]
  },
  {
   "cell_type": "code",
   "execution_count": null,
   "metadata": {
    "id": "s3T-MtscWj6o"
   },
   "outputs": [],
   "source": [
    "def approx_pi(n):\n",
    "    return 4*sum([()/(2*i+1) for i in range(0,n+1)])"
   ]
  },
  {
   "cell_type": "markdown",
   "metadata": {
    "id": "N1cMFokKWj6r"
   },
   "source": [
    "### Tipos iterables\n",
    "\n",
    "- Tipos que se pueden recorrer.\n",
    "- Tienen una noción de siguiente.\n",
    "- Ejemplos: cadenas, tuplas, listas, conjuntos, diccionarios.\n",
    "- Se usan en bucles ``for item in iterable:``.\n",
    "- Se generan:\n",
    "    - Mediante funciones como ``range``, ``enumerate``, ``zip``, ...\n",
    "    - Por comprensión."
   ]
  },
  {
   "cell_type": "code",
   "execution_count": null,
   "metadata": {
    "id": "Q7iD_xAwWj6r"
   },
   "outputs": [],
   "source": [
    "range(1,10,2)"
   ]
  },
  {
   "cell_type": "code",
   "execution_count": null,
   "metadata": {
    "id": "x-a6XMe6Wj6t"
   },
   "outputs": [],
   "source": [
    "list(range(1,10,2))"
   ]
  },
  {
   "cell_type": "code",
   "execution_count": null,
   "metadata": {
    "id": "NsEuB3cXWj6u"
   },
   "outputs": [],
   "source": [
    "(x * x for x in range(1,10,3))"
   ]
  },
  {
   "cell_type": "code",
   "execution_count": null,
   "metadata": {
    "id": "HwYIfcxEWj6x"
   },
   "outputs": [],
   "source": [
    "list((x * x for x in range(1,10,3)))"
   ]
  },
  {
   "cell_type": "markdown",
   "metadata": {
    "id": "aciNFqtHWj6z"
   },
   "source": [
    "### Excepciones\n",
    "\n",
    "- Existen excepciones como en otros lenguajes.\n",
    "- Sintaxis ``try ... except ``.\n",
    "- Para lanzar excepciones se utiliza ``raise``.\n",
    "- Excepciones heredan de ``BaseException``.\n",
    "- [Excepciones comunes](https://docs.python.org/3/library/exceptions.html#concrete-exceptions).\n",
    "- [Jerarquía de excepciones](https://docs.python.org/3/library/exceptions.html#exception-hierarchy)."
   ]
  },
  {
   "cell_type": "code",
   "execution_count": null,
   "metadata": {
    "id": "wzP7wVxsWj6z"
   },
   "outputs": [],
   "source": [
    "def devuelve_doble():\n",
    "    x = int(input(\"Introduce un número: \"))\n",
    "    return 2*x"
   ]
  },
  {
   "cell_type": "code",
   "execution_count": null,
   "metadata": {
    "id": "qM2X_R9SWj61"
   },
   "outputs": [],
   "source": [
    "devuelve_doble()"
   ]
  },
  {
   "cell_type": "code",
   "execution_count": null,
   "metadata": {
    "id": "wjroe3PbWj62"
   },
   "outputs": [],
   "source": [
    "def devuelve_doble():\n",
    "    while True:\n",
    "        try:\n",
    "            x = int(input(\"Introduce un número: \"))\n",
    "            return 2*x\n",
    "        except ValueError:\n",
    "            print(\"No es un número, inténtelo de nuevo\")"
   ]
  },
  {
   "cell_type": "code",
   "execution_count": null,
   "metadata": {
    "id": "KhOmAzsMWj65"
   },
   "outputs": [],
   "source": [
    "devuelve_doble()"
   ]
  },
  {
   "cell_type": "markdown",
   "metadata": {
    "id": "7M5TKNxlWj66"
   },
   "source": [
    "### Segundo orden\n",
    "\n",
    "Tipo de dato \"función\" (``Callable``):\n",
    "\n",
    " - Expresiones lambda.\n",
    " - Funciones que devuelven funciones.\n",
    " - Funciones que reciben funciones como argumento."
   ]
  },
  {
   "cell_type": "code",
   "execution_count": null,
   "metadata": {
    "id": "R8K32OKOWj66"
   },
   "outputs": [],
   "source": [
    "lambda x,y: x+y*3"
   ]
  },
  {
   "cell_type": "code",
   "execution_count": null,
   "metadata": {
    "id": "x6EMmElhWj68"
   },
   "outputs": [],
   "source": [
    "(lambda x,y: x+y*3)(2,3)"
   ]
  },
  {
   "cell_type": "code",
   "execution_count": null,
   "metadata": {
    "id": "qTUBXAmrWj6-"
   },
   "outputs": [],
   "source": [
    "from typing import *\n",
    "\n",
    "def incremento(n:int)-> Callable[[int],int]:\n",
    "    return lambda x: x+n"
   ]
  },
  {
   "cell_type": "code",
   "execution_count": null,
   "metadata": {
    "id": "uMAJrqUkWj7A"
   },
   "outputs": [],
   "source": [
    "f2 = incremento(2)"
   ]
  },
  {
   "cell_type": "code",
   "execution_count": null,
   "metadata": {
    "id": "3NgXYgaxWj7B"
   },
   "outputs": [],
   "source": [
    "f2(5)"
   ]
  },
  {
   "cell_type": "code",
   "execution_count": null,
   "metadata": {
    "id": "gtvxxIrKWj7D"
   },
   "outputs": [],
   "source": [
    "def aplica (f: Callable[[int],int],l:List[int])->List[int]:\n",
    "    return [f(x) for x in l]"
   ]
  },
  {
   "cell_type": "code",
   "execution_count": null,
   "metadata": {
    "id": "QILGb1XzWj7F"
   },
   "outputs": [],
   "source": [
    "aplica(incremento(5),[1,2,3])"
   ]
  },
  {
   "cell_type": "markdown",
   "metadata": {
    "id": "f2QCud4TWj7H"
   },
   "source": [
    "### Ficheros\n",
    "\n",
    "- Existe en Python el tipo fichero.\n",
    "- Ficheros usan funciones específicas de cada sistema operativo para manipularlos. \n",
    "- Apertura:\n",
    "    - ``open(file,mode)``."
   ]
  },
  {
   "cell_type": "code",
   "execution_count": null,
   "metadata": {
    "id": "t1erIYx6Wj7H"
   },
   "outputs": [],
   "source": [
    "??open"
   ]
  },
  {
   "cell_type": "markdown",
   "metadata": {
    "id": "43cb9UKbWj7J"
   },
   "source": [
    "Métodos sobre ficheros:\n",
    "- ``f.read()``\n",
    "- ``f.readline()``\n",
    "- ``f.write()``\n",
    "- ``f.close()``\n",
    "\n",
    "    "
   ]
  },
  {
   "cell_type": "code",
   "execution_count": null,
   "metadata": {
    "id": "EGLIBofHWj7K"
   },
   "outputs": [],
   "source": [
    "fichero = open(\"prueba.txt\",'w')"
   ]
  },
  {
   "cell_type": "code",
   "execution_count": null,
   "metadata": {
    "id": "-kGrEiMnWj7M"
   },
   "outputs": [],
   "source": [
    "fichero.write(\"Esta es la primera línea\\n\")\n",
    "fichero.write(\"Vamos por la segunda\\n\")\n",
    "fichero.write(\"La tercera ya llegó\\n\")\n",
    "fichero.write(\"Y finalizamos con la cuarta\\n\")"
   ]
  },
  {
   "cell_type": "code",
   "execution_count": null,
   "metadata": {
    "id": "8aoIoIotWj7O"
   },
   "outputs": [],
   "source": [
    "fichero.close()"
   ]
  },
  {
   "cell_type": "code",
   "execution_count": null,
   "metadata": {
    "id": "RU4IUp8yWj7P"
   },
   "outputs": [],
   "source": [
    "f = open(\"prueba.txt\")"
   ]
  },
  {
   "cell_type": "code",
   "execution_count": null,
   "metadata": {
    "id": "JojHTBsvWj7R"
   },
   "outputs": [],
   "source": [
    "s = f.read()"
   ]
  },
  {
   "cell_type": "code",
   "execution_count": null,
   "metadata": {
    "id": "vqftIf1xWj7T"
   },
   "outputs": [],
   "source": [
    "s"
   ]
  },
  {
   "cell_type": "code",
   "execution_count": null,
   "metadata": {
    "id": "QNBEB0owWj7V"
   },
   "outputs": [],
   "source": [
    "f.close()"
   ]
  },
  {
   "cell_type": "code",
   "execution_count": null,
   "metadata": {
    "id": "1Dj0AFGvWj7X"
   },
   "outputs": [],
   "source": [
    "with open(\"prueba.txt\") as f:\n",
    "    primera = f.readline()"
   ]
  },
  {
   "cell_type": "code",
   "execution_count": null,
   "metadata": {
    "id": "RKB5K8m7Wj7Z"
   },
   "outputs": [],
   "source": [
    "primera"
   ]
  },
  {
   "cell_type": "code",
   "execution_count": null,
   "metadata": {
    "id": "6BGUUGZOWj7b"
   },
   "outputs": [],
   "source": [
    "f = open(\"prueba.txt\")"
   ]
  },
  {
   "cell_type": "code",
   "execution_count": null,
   "metadata": {
    "id": "0abMRKkxWj7d"
   },
   "outputs": [],
   "source": [
    "s1 = f.readline()"
   ]
  },
  {
   "cell_type": "code",
   "execution_count": null,
   "metadata": {
    "id": "2HsuTTHqWj7e"
   },
   "outputs": [],
   "source": [
    "s1"
   ]
  },
  {
   "cell_type": "code",
   "execution_count": null,
   "metadata": {
    "id": "7A7lkE2DWj7h"
   },
   "outputs": [],
   "source": [
    "f.readline()"
   ]
  },
  {
   "cell_type": "code",
   "execution_count": null,
   "metadata": {
    "id": "EHqzES6_Wj7j"
   },
   "outputs": [],
   "source": [
    "f.readline()"
   ]
  },
  {
   "cell_type": "code",
   "execution_count": null,
   "metadata": {
    "id": "QlpWyBbSWj7k"
   },
   "outputs": [],
   "source": [
    "f.readline()"
   ]
  },
  {
   "cell_type": "code",
   "execution_count": null,
   "metadata": {
    "id": "glKlNZwEWj7m"
   },
   "outputs": [],
   "source": [
    "f.readline()"
   ]
  },
  {
   "cell_type": "code",
   "execution_count": null,
   "metadata": {
    "id": "PeJO4DK1Wj7o"
   },
   "outputs": [],
   "source": [
    "f.close()"
   ]
  },
  {
   "cell_type": "code",
   "execution_count": null,
   "metadata": {
    "id": "RQ7hCQ5bWj7q"
   },
   "outputs": [],
   "source": [
    "for line in open(\"prueba.txt\"):\n",
    "    print(line)"
   ]
  },
  {
   "cell_type": "code",
   "execution_count": null,
   "metadata": {
    "id": "UT4ek8AZWj7s"
   },
   "outputs": [],
   "source": [
    "with open(\"prueba.txt\") as f:\n",
    "    for line in f:\n",
    "        print(line)"
   ]
  },
  {
   "cell_type": "markdown",
   "metadata": {
    "id": "0mmeTimhWj7u"
   },
   "source": [
    "### Clases\n",
    "\n",
    "Python permite trabajar con el paradigma de Programación Orientada a Objetos (POO)."
   ]
  },
  {
   "cell_type": "code",
   "execution_count": null,
   "metadata": {
    "id": "NEsxqJafWj7u"
   },
   "outputs": [],
   "source": [
    "import math"
   ]
  },
  {
   "cell_type": "code",
   "execution_count": null,
   "metadata": {
    "id": "XFSbi5-cWj7w"
   },
   "outputs": [],
   "source": [
    "# La clase punto hereda de object para así poder redefinir métodos\n",
    "class Punto(object):\n",
    "    # Constructor\n",
    "    def __init__(self,x=0,y=0):\n",
    "        self.x = x\n",
    "        self.y = y\n",
    "      \n",
    "    # Métodos de nuestra clase\n",
    "    def distancia_al_origen(self):\n",
    "        return math.hypot(self.x,self.y)\n",
    "    \n",
    "    # Redefinimos método __eq__ de la clase object\n",
    "    def __eq__(self, other):\n",
    "        return self.x==other.x and self.y==other.y\n",
    "    \n",
    "    def __str__(self):\n",
    "        return \"({0.x!r},{0.y!r})\".format(self)"
   ]
  },
  {
   "cell_type": "code",
   "execution_count": null,
   "metadata": {
    "id": "oCNx6UYvWj7z"
   },
   "outputs": [],
   "source": [
    "p1 = Punto()"
   ]
  },
  {
   "cell_type": "code",
   "execution_count": null,
   "metadata": {
    "id": "RqjytC4WWj8A"
   },
   "outputs": [],
   "source": [
    "p2 = Punto(3,4)"
   ]
  },
  {
   "cell_type": "code",
   "execution_count": null,
   "metadata": {
    "id": "mP7mlQXuWj8C"
   },
   "outputs": [],
   "source": [
    "p1"
   ]
  },
  {
   "cell_type": "code",
   "execution_count": null,
   "metadata": {
    "id": "APBC-OWMWj8E"
   },
   "outputs": [],
   "source": [
    "str(p1)"
   ]
  },
  {
   "cell_type": "code",
   "execution_count": null,
   "metadata": {
    "id": "vU_lagrSWj8F"
   },
   "outputs": [],
   "source": [
    "str(p2)"
   ]
  },
  {
   "cell_type": "code",
   "execution_count": null,
   "metadata": {
    "id": "erUzem7FWj8H"
   },
   "outputs": [],
   "source": [
    "p1.x"
   ]
  },
  {
   "cell_type": "code",
   "execution_count": null,
   "metadata": {
    "id": "5dfMfeDmWj8J"
   },
   "outputs": [],
   "source": [
    "p2.y"
   ]
  },
  {
   "cell_type": "code",
   "execution_count": null,
   "metadata": {
    "id": "_ityPZXAWj8L"
   },
   "outputs": [],
   "source": [
    "p1 == p2"
   ]
  },
  {
   "cell_type": "code",
   "execution_count": null,
   "metadata": {
    "id": "ZivDOWp1Wj8N"
   },
   "outputs": [],
   "source": [
    "p2.distancia_al_origen()"
   ]
  },
  {
   "cell_type": "code",
   "execution_count": null,
   "metadata": {
    "id": "npd_llUqWj8P"
   },
   "outputs": [],
   "source": [
    "p1.x=3"
   ]
  },
  {
   "cell_type": "code",
   "execution_count": null,
   "metadata": {
    "id": "PXHZkqB1Wj8Q"
   },
   "outputs": [],
   "source": [
    "str(p1)"
   ]
  },
  {
   "cell_type": "code",
   "execution_count": null,
   "metadata": {
    "id": "39YgpFCLWj8S"
   },
   "outputs": [],
   "source": [
    "p1.y=1"
   ]
  },
  {
   "cell_type": "code",
   "execution_count": null,
   "metadata": {
    "id": "yUcCKeXAWj8U"
   },
   "outputs": [],
   "source": [
    "p1.distancia_al_origen()"
   ]
  },
  {
   "cell_type": "markdown",
   "metadata": {
    "id": "4TKMvJ13Wj8V"
   },
   "source": [
    "Por defecto en Python todas las variables y métodos son públicos. Si queremos hacerlos privados, tenemos que utilizar el prefijo ``__`` (dos guiones bajos)."
   ]
  },
  {
   "cell_type": "code",
   "execution_count": null,
   "metadata": {
    "id": "BnQCuYXZWj8W"
   },
   "outputs": [],
   "source": [
    "class A():\n",
    "    def __init__(self,x):\n",
    "        self.__x = x\n",
    "    \n",
    "    def printX(self):\n",
    "        print(self.__x)"
   ]
  },
  {
   "cell_type": "code",
   "execution_count": null,
   "metadata": {
    "id": "9fzioK-XWj8Z"
   },
   "outputs": [],
   "source": [
    "a =  A(5)"
   ]
  },
  {
   "cell_type": "code",
   "execution_count": null,
   "metadata": {
    "id": "8ssPMaSjWj8a"
   },
   "outputs": [],
   "source": [
    "a.printX()"
   ]
  },
  {
   "cell_type": "code",
   "execution_count": null,
   "metadata": {
    "id": "rQkyHVpoWj8c"
   },
   "outputs": [],
   "source": [
    "a.__x"
   ]
  },
  {
   "cell_type": "markdown",
   "metadata": {
    "id": "5UAAU6iCWj8d"
   },
   "source": [
    "##### Herencia"
   ]
  },
  {
   "cell_type": "code",
   "execution_count": null,
   "metadata": {
    "id": "eIYw2x-8Wj8f"
   },
   "outputs": [],
   "source": [
    "class Circulo(Punto):\n",
    "\n",
    "    def __init__(self,radio,x=0,y=0):\n",
    "        Punto.__init__(self,x,y) # super(Punto,self).__init__(x,y)\n",
    "        self.radio = radio\n",
    "      \n",
    "    def distacia_del_borde_al_origen(self):\n",
    "        return abs(self.distancia_al_origen()-self.radio)\n",
    "  \n",
    "    def area(self):\n",
    "        return math.pi * (self.radio**2)\n",
    "  \n",
    "    def circunferencia(self):\n",
    "        return 2 * math.pi * self.radio\n",
    "  \n",
    "    def __eq__(self, other):\n",
    "        return self.radio == other.radio and super().__eq__(other)\n",
    "  \n",
    "    def __str__(self):\n",
    "        return \"Circulo({0.radio!r},{0.x!r},{0.y!r}) \".format(self)\n"
   ]
  },
  {
   "cell_type": "code",
   "execution_count": null,
   "metadata": {
    "id": "aa4o4aLuWj8g"
   },
   "outputs": [],
   "source": [
    "p = Punto(3,4)"
   ]
  },
  {
   "cell_type": "code",
   "execution_count": null,
   "metadata": {
    "id": "Z0ML6supWj8i"
   },
   "outputs": [],
   "source": [
    "c = Circulo(1,3,4)"
   ]
  },
  {
   "cell_type": "code",
   "execution_count": null,
   "metadata": {
    "id": "vVSn-RcVWj8k"
   },
   "outputs": [],
   "source": [
    "str(p)"
   ]
  },
  {
   "cell_type": "code",
   "execution_count": null,
   "metadata": {
    "id": "xFPyYTj8Wj8l"
   },
   "outputs": [],
   "source": [
    "str(c)"
   ]
  },
  {
   "cell_type": "code",
   "execution_count": null,
   "metadata": {
    "id": "Wqz3kePpWj8m"
   },
   "outputs": [],
   "source": [
    "p.distancia_al_origen()"
   ]
  },
  {
   "cell_type": "code",
   "execution_count": null,
   "metadata": {
    "id": "Ynsn_lsgWj8o"
   },
   "outputs": [],
   "source": [
    "c.distancia_al_origen()"
   ]
  },
  {
   "cell_type": "code",
   "execution_count": null,
   "metadata": {
    "id": "3_FK9FXoWj8r"
   },
   "outputs": [],
   "source": [
    "c.distacia_del_borde_al_origen()"
   ]
  },
  {
   "cell_type": "markdown",
   "metadata": {
    "id": "puIFQrN7Wj8t"
   },
   "source": [
    "##### Interfaces\n",
    "\n",
    "No existe la palabra clave ``interface``, hay que definir clases completamente abstractas (al estilo de lo que vimos en POO para C++)."
   ]
  },
  {
   "cell_type": "code",
   "execution_count": null,
   "metadata": {
    "id": "yp4k706fWj8u"
   },
   "outputs": [],
   "source": [
    "import abc\n",
    "\n",
    "class Repository(metaclass=abc.ABCMeta):\n",
    "    \n",
    "    @abc.abstractmethod\n",
    "    def get_employee(self,company_name,id):\n",
    "        pass"
   ]
  },
  {
   "cell_type": "markdown",
   "metadata": {
    "id": "ZQwzmFQMWj8v"
   },
   "source": [
    "#### Y mucho más...\n",
    "\n",
    "- Más métodos y operaciones.\n",
    "- Otros tipos de datos: decimales, tuplas con nombre, conjuntos inmutables, ...\n",
    "- Decoraciones.\n",
    "- Generadores definidos por el usuario.\n",
    "- Paquetes y espacios de nombres.\n",
    "- Documentación, pruebas, depurado de programas. "
   ]
  },
  {
   "cell_type": "markdown",
   "metadata": {
    "id": "T-a8hG5AWj8w"
   },
   "source": [
    "#### Biblioteca estándar\n",
    "\n",
    "- Interacción con el sistema operativo, eficiencia.\n",
    "- Comodines para los nombres de ficheros.\n",
    "- Argumentos a través de línea de comandos.\n",
    "- Manejo de errores, de cadenas, control de calidad.\n",
    "- Operaciones matemáticas.\n",
    "- Programación en Internet, XML.\n",
    "- ...\n"
   ]
  },
  {
   "cell_type": "markdown",
   "metadata": {
    "id": "2U9lK5qWWj8w"
   },
   "source": [
    "#### Estilo\n",
    "\n",
    "[Guía de estilo](https://www.python.org/dev/peps/pep-0008/):\n",
    "\n",
    "- Utilizar 4 espacios o tabulación para el sangrado.\n",
    "- Una línea no debe contener más de 79 caracteres.\n",
    "- Separar definiciones de funciones, clases y bloques de código con líneas en blanco.\n",
    "- Líneas de comentario deben ser independientes.\n",
    "- Incluir entre espacios los operadores, ponerlos tras las comas, pero no con paréntesis: ``a = f(2, 3) + g(6)``.\n",
    "- Utilizar CamelCase para nombrar las clases, y minúsculas y guiones bajos para las funciones y métodos. Usa self para el primer argumento del método de una clase. \n",
    "- Utiliza texto plano (ASCII) o, si es estrictamente necesario, utf-8. \n",
    "- Utiliza sólo caracteres ASCII para los identificadores. "
   ]
  },
  {
   "cell_type": "markdown",
   "metadata": {
    "id": "XwnTCueQWj8w"
   },
   "source": [
    "## Bibliografía\n",
    "\n",
    "- [The Python tutorial](https://docs.python.org/3/tutorial/).\n",
    "- [The Python language reference](https://docs.python.org/3/reference/).\n",
    "- [The Python standard library](https://docs.python.org/3/library/).\n",
    "- Jackson, Cody. 2016. Learning to Program Using Python: 3rd Edition. Createspace Independent Publishing Platform.\n",
    "- Driscoll, Michael. 2020. Python 101. "
   ]
  }
 ],
 "metadata": {
  "colab": {
   "name": "Tema2.ipynb",
   "provenance": [],
   "toc_visible": true
  },
  "kernelspec": {
   "display_name": "Python 3",
   "language": "python",
   "name": "python3"
  },
  "language_info": {
   "codemirror_mode": {
    "name": "ipython",
    "version": 3
   },
   "file_extension": ".py",
   "mimetype": "text/x-python",
   "name": "python",
   "nbconvert_exporter": "python",
   "pygments_lexer": "ipython3",
   "version": "3.6.8"
  }
 },
 "nbformat": 4,
 "nbformat_minor": 1
}
